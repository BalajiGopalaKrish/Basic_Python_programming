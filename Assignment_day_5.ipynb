{
 "cells": [
  {
   "cell_type": "code",
   "execution_count": 1,
   "metadata": {},
   "outputs": [
    {
     "name": "stdout",
     "output_type": "stream",
     "text": [
      "4\n"
     ]
    }
   ],
   "source": [
    "#Question 1\n",
    "nums=set([1,1,2,3,3,3,4,4])\n",
    "print(len(nums))"
   ]
  },
  {
   "cell_type": "code",
   "execution_count": 2,
   "metadata": {},
   "outputs": [
    {
     "name": "stdout",
     "output_type": "stream",
     "text": [
      "['john', 'peter']\n"
     ]
    }
   ],
   "source": [
    "#Question 2\n",
    "d={\"john\":40,\"peter\":45}\n",
    "print(list(d.keys()))"
   ]
  },
  {
   "cell_type": "code",
   "execution_count": 3,
   "metadata": {},
   "outputs": [
    {
     "name": "stdout",
     "output_type": "stream",
     "text": [
      "Enter Username: Balaji\n",
      "Enter Password: J6tmj@23\n",
      "Valid Password\n"
     ]
    }
   ],
   "source": [
    "#Question 3\n",
    "import re\n",
    "user=input(\"Enter Username: \")\n",
    "pwd=input(\"Enter Password: \")\n",
    "if len(pwd)<12 and len(pwd)>6:\n",
    "    if re.search(\"[$#@]\", pwd) and re.search(\"[A-Z]\",pwd) and re.search(\"[0-9]\",pwd) and re.search(\"[a-z]\",pwd):\n",
    "        print (\"Valid Password\")\n",
    "    else:\n",
    "        print (\"Invalid Password, it should contains [0-9], [A-Z],[a-z],[$#@]\")\n",
    "else:\n",
    "    print(\"Invalid Password, it should have mininum 6 character and maximum 12 character\")"
   ]
  },
  {
   "cell_type": "code",
   "execution_count": 4,
   "metadata": {},
   "outputs": [
    {
     "name": "stdout",
     "output_type": "stream",
     "text": [
      "4 is at position 1\n",
      "7 is at position 2\n",
      "3 is at position 3\n",
      "2 is at position 4\n",
      "5 is at position 5\n",
      "9 is at position 6\n"
     ]
    }
   ],
   "source": [
    "#Question 4\n",
    "a = [4,7,3,2,5,9]\n",
    "for i in a:\n",
    "    print (i, \"is at position\", a.index(i)+1)"
   ]
  },
  {
   "cell_type": "code",
   "execution_count": 5,
   "metadata": {},
   "outputs": [
    {
     "name": "stdout",
     "output_type": "stream",
     "text": [
      "Enter a string to print even position of the character: H1e2l3l4o5w6o7r8l9d\n",
      "Helloworld\n"
     ]
    }
   ],
   "source": [
    "#Question 5\n",
    "#mystyr= \"H1e2l3l4o5w6o7r8l9d\"\n",
    "mystyr= input(\"Enter a string to print even position of the character: \")\n",
    "modistr=mystyr[::2]\n",
    "print(modistr)"
   ]
  },
  {
   "cell_type": "code",
   "execution_count": 6,
   "metadata": {},
   "outputs": [
    {
     "name": "stdout",
     "output_type": "stream",
     "text": [
      "Enter a string: This is my String\n",
      "Reverse order of String is: gnirtS ym si sihT\n"
     ]
    }
   ],
   "source": [
    "#Question 6:\n",
    "Valst=input(\"Enter a string: \")\n",
    "modivl=Valst[::-1]\n",
    "print(\"Reverse order of String is: \"+modivl)"
   ]
  },
  {
   "cell_type": "code",
   "execution_count": 7,
   "metadata": {},
   "outputs": [
    {
     "name": "stdout",
     "output_type": "stream",
     "text": [
      "a , 2\n",
      "b , 2\n",
      "c , 2\n",
      "d , 1\n",
      "e , 1\n",
      "f , 1\n",
      "g , 1\n",
      "a , 2\n",
      "b , 2\n",
      "c , 2\n"
     ]
    }
   ],
   "source": [
    "#Question 7:\n",
    "mycharval=\"abcdefgabc\"\n",
    "#mycharval=input(\"Enter a string to print with index value :\")\n",
    "for i in mycharval:\n",
    "    print(i,\",\",mycharval.count(i))"
   ]
  },
  {
   "cell_type": "code",
   "execution_count": 8,
   "metadata": {},
   "outputs": [
    {
     "name": "stdout",
     "output_type": "stream",
     "text": [
      "Intersection of list1 and list2 is  {35}\n"
     ]
    }
   ],
   "source": [
    "#Question 8:\n",
    "lst1=[1,3,6,78,35,55]\n",
    "lst2=[12,24,35,24,88,120,155]\n",
    "print(\"Intersection of list1 and list2 is \", set(lst1) & set(lst2))"
   ]
  },
  {
   "cell_type": "code",
   "execution_count": 9,
   "metadata": {},
   "outputs": [
    {
     "name": "stdout",
     "output_type": "stream",
     "text": [
      "[12, 35, 88, 120, 155]\n"
     ]
    }
   ],
   "source": [
    "#Question 9:\n",
    "mylst=[12,24,35,24,88,120,155]\n",
    "rmv = 24\n",
    "while rmv in mylst:\n",
    "    mylst.remove(rmv)\n",
    "print(mylst)"
   ]
  },
  {
   "cell_type": "code",
   "execution_count": 10,
   "metadata": {},
   "outputs": [
    {
     "name": "stdout",
     "output_type": "stream",
     "text": [
      "[24, 35, 70, 155]\n"
     ]
    }
   ],
   "source": [
    "#Question 10:\n",
    "rmvlst=[0,4,5]\n",
    "newrmvlst=rmvlst[::-1]\n",
    "mylist=[12,24,35,70,88,120,155]\n",
    "\n",
    "for i in newrmvlst:\n",
    "    mylist.pop(i)\n",
    "    \n",
    "print(mylist)"
   ]
  },
  {
   "cell_type": "code",
   "execution_count": 11,
   "metadata": {},
   "outputs": [
    {
     "name": "stdout",
     "output_type": "stream",
     "text": [
      "[12, 24, 70, 88, 155]\n"
     ]
    }
   ],
   "source": [
    "#Question 11\n",
    "m_list=[12,24,35,70,88,120,155]\n",
    "for i in m_list:\n",
    "    if (i % 5 ==0 or i % 7 == 0):\n",
    "        m_list.remove(i)\n",
    "        \n",
    "print(m_list)"
   ]
  },
  {
   "cell_type": "code",
   "execution_count": 12,
   "metadata": {},
   "outputs": [
    {
     "name": "stdout",
     "output_type": "stream",
     "text": [
      "Enter a number : 5\n",
      "3.5500000000000003\n"
     ]
    }
   ],
   "source": [
    "#Question 11\n",
    "n=int(input(\"Enter a number : \"))\n",
    "sum=0.0\n",
    "for i in range(1,n+1):\n",
    "    sum += float(float(i)/(i+1))\n",
    "print(sum)"
   ]
  }
 ],
 "metadata": {
  "kernelspec": {
   "display_name": "Python 3",
   "language": "python",
   "name": "python3"
  },
  "language_info": {
   "codemirror_mode": {
    "name": "ipython",
    "version": 3
   },
   "file_extension": ".py",
   "mimetype": "text/x-python",
   "name": "python",
   "nbconvert_exporter": "python",
   "pygments_lexer": "ipython3",
   "version": "3.8.5"
  }
 },
 "nbformat": 4,
 "nbformat_minor": 4
}
